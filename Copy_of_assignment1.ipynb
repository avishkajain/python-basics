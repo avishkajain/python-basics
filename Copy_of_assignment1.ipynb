{
  "nbformat": 4,
  "nbformat_minor": 0,
  "metadata": {
    "colab": {
      "provenance": [],
      "toc_visible": true
    },
    "kernelspec": {
      "name": "python3",
      "display_name": "Python 3"
    },
    "language_info": {
      "name": "python"
    }
  },
  "cells": [
    {
      "cell_type": "code",
      "execution_count": null,
      "metadata": {
        "id": "WcJ_8oJPh8Av"
      },
      "outputs": [],
      "source": []
    },
    {
      "cell_type": "code",
      "source": [],
      "metadata": {
        "id": "UEUVIkIhkuwb"
      },
      "execution_count": null,
      "outputs": []
    },
    {
      "cell_type": "code",
      "source": [],
      "metadata": {
        "id": "WfUCfsQql_dV"
      },
      "execution_count": null,
      "outputs": []
    },
    {
      "cell_type": "markdown",
      "source": [
        "## Name Avishka jain\n",
        "\n",
        "\n",
        "\n",
        "**python basic questions**\n",
        "# answer1\n",
        "  python is a high level progamming language and it is popular because it is easy to implement and more useful.its syntax are more like english which makes it understandable to people other than coders.\n",
        "\n",
        "\n",
        "# answer2\n",
        "  interpreter in python is a program that reads and translate code im machine learning line by line.\n",
        "\n",
        "# answer 3\n",
        " the keywords that are already reserved arepredefined keywords\n",
        " for example if,else,for,def\n",
        "\n",
        "# answer 4\n",
        " no keywords cant used as variables\n",
        " it will result in a syntax error keywords are for suitable work.\n",
        "\n",
        "# answer5\n",
        " mutability means if once the value is defined of an object it can be modified or updated.\n",
        "\n",
        "# answer 6\n",
        " lists are mutable because the contents of lists are mutable\n",
        " but tuples are immutable because the contents of tuples are immutable.\n",
        "\n",
        "# answer 7\n",
        " == is a equality operator when tells if the 2 objects are equal or not without checking the data typed and is operator is used to check if 2 objects point to sam memory location.\n",
        "\n",
        "\n",
        "# answer 8\n",
        " and - true if both operends are ture\n",
        " or  - true if one of the operand is true\n",
        " not  - invserse of boolean  \n",
        "# answer 9\n",
        "\n",
        " type cast is used to change the datatype of the object but the datatype should be valid\n",
        "\n",
        "#answer 10\n",
        " implicit typecast is automatic type conversion done by python\n",
        " from lower datatype to higher data type\n",
        " explicit datatype is done by the programmer'\n",
        " higher to lower datatype.\n",
        "\n",
        "#answer 11\n",
        " conditional ststement is used to control the flow of statements to know which block to execute\n",
        "\n",
        "# answer 12\n",
        " when we have multiple statements and if condition is false so before going to else if goes to elif statement\n",
        "\n",
        "# answer 13\n",
        "\n",
        " for is used when he number of iterations are known and while is used when theit met a particulr condition\n",
        "\n",
        "# answer 14\n",
        " when you repeatedly ask the user for input till it provide a valid data\n",
        "\n",
        "    "
      ],
      "metadata": {
        "id": "xqn9iZrniACC"
      }
    },
    {
      "cell_type": "code",
      "source": [
        "# answer 1\n",
        "print(\"hello world\")\n"
      ],
      "metadata": {
        "colab": {
          "base_uri": "https://localhost:8080/"
        },
        "id": "9oZPHvTxwwAt",
        "outputId": "bca2c503-1e5b-46de-ade5-83aefce1adb5"
      },
      "execution_count": null,
      "outputs": [
        {
          "output_type": "stream",
          "name": "stdout",
          "text": [
            "hello world\n"
          ]
        }
      ]
    },
    {
      "cell_type": "code",
      "source": [
        "#answer 2\n",
        "name=\"Avishka\"\n",
        "age=20\n",
        "print(f\"my name is {name} and age is {age}\")"
      ],
      "metadata": {
        "colab": {
          "base_uri": "https://localhost:8080/"
        },
        "id": "iopNNfqGxF_v",
        "outputId": "a7c949a8-fd11-4485-bf96-fa02b2fca148"
      },
      "execution_count": null,
      "outputs": [
        {
          "output_type": "stream",
          "name": "stdout",
          "text": [
            "my name is Avishka and age is 20\n"
          ]
        }
      ]
    },
    {
      "cell_type": "code",
      "source": [
        "#answer 3\n",
        "import keyword\n",
        "print(\"rhe list of keywords\")\n",
        "print(keyword.kwlist)\n"
      ],
      "metadata": {
        "colab": {
          "base_uri": "https://localhost:8080/"
        },
        "id": "pkDvB_rhxk2O",
        "outputId": "10056423-19c9-4151-cf51-93ad46d48ac9"
      },
      "execution_count": null,
      "outputs": [
        {
          "output_type": "stream",
          "name": "stdout",
          "text": [
            "rhe list of keywords\n",
            "['False', 'None', 'True', 'and', 'as', 'assert', 'async', 'await', 'break', 'class', 'continue', 'def', 'del', 'elif', 'else', 'except', 'finally', 'for', 'from', 'global', 'if', 'import', 'in', 'is', 'lambda', 'nonlocal', 'not', 'or', 'pass', 'raise', 'return', 'try', 'while', 'with', 'yield']\n"
          ]
        }
      ]
    },
    {
      "cell_type": "code",
      "source": [
        "#answer 4\n",
        "import keyword\n",
        "word=input(\"enter a word\")\n",
        "if keyword.iskeyword(word):\n",
        "  print(\"yes\")\n",
        "else:\n",
        "  print(\"no\")"
      ],
      "metadata": {
        "id": "TjEHFZ_82igN"
      },
      "execution_count": null,
      "outputs": []
    },
    {
      "cell_type": "code",
      "source": [
        "#answer5\n",
        "s=[1,2,3,4]\n",
        "t=(1,2,3,4)\n",
        "s[0]=3\n",
        "print(s[0])\n",
        "t[0] =5\n",
        "print(t[0])"
      ],
      "metadata": {
        "id": "-ibfMDw43l9g"
      },
      "execution_count": null,
      "outputs": []
    },
    {
      "cell_type": "code",
      "source": [
        "#answer6\n",
        "lists=[2,3,4]\n",
        "lists[0]=7\n",
        "tuples=(1,2,3)\n",
        "#immutable cant be modified"
      ],
      "metadata": {
        "id": "6sXpRIQi4x0F"
      },
      "execution_count": null,
      "outputs": []
    },
    {
      "cell_type": "code",
      "source": [
        "#answer 7\n",
        "a=int(input(\"enter te first number\"))\n",
        "b=int(input(\"enter te  second number\"))\n",
        "c=a+b\n",
        "d=a-b\n",
        "e=a*b\n",
        "print(f\"add{c} ,subtract{d},mul{e}\")"
      ],
      "metadata": {
        "id": "yPjHjT-c50hX"
      },
      "execution_count": null,
      "outputs": []
    },
    {
      "cell_type": "code",
      "source": [
        "#answer8\n",
        "a=int(input(\"no 1\"))\n",
        "b=int(input(\"no 2\"))\n",
        "c=int(input(\"no 3\"))\n",
        "if (a>b) and (b>c):\n",
        "  print(\"b is greater\")\n",
        "elif(a>c) or (c>b):\n",
        "   print(\"or perator\")\n",
        "elif(not(a>b)):\n",
        "  print(\"not operatot\")\n",
        "else:\n",
        "  print(\"enter valid no\")\n"
      ],
      "metadata": {
        "id": "W_CsaeTR7SxL"
      },
      "execution_count": null,
      "outputs": []
    },
    {
      "cell_type": "code",
      "source": [
        "#answer 9\n",
        "a=input(\"enter no\")\n",
        "print(int(a))\n",
        "print(float(a))\n",
        "print(bool(a))\n"
      ],
      "metadata": {
        "id": "yI8Gj5US9wdy"
      },
      "execution_count": null,
      "outputs": []
    },
    {
      "cell_type": "code",
      "source": [
        "#answer10\n",
        "\n",
        "a=[1,2,3,4]\n",
        "b=[str(x) for x in a]\n",
        "print(b)"
      ],
      "metadata": {
        "id": "TQTzMOhkx95W"
      },
      "execution_count": null,
      "outputs": []
    },
    {
      "cell_type": "code",
      "source": [
        "#answer 11\n",
        "a=input(\"input no\")\n",
        "if(a>0):\n",
        "  print(\"the no is positive\")\n",
        "elif(a==0):\n",
        "  print(\"it is zero\")\n",
        "elif(a<0):\n",
        "  print(\"it is zero\")\n",
        "else:\n",
        "  print(\"enter valid\")\n",
        ""
      ],
      "metadata": {
        "id": "BhC9EkrJx-In"
      },
      "execution_count": null,
      "outputs": []
    },
    {
      "cell_type": "code",
      "source": [
        "#answer 12\n",
        "for i in range(1,11):\n",
        " print(i)"
      ],
      "metadata": {
        "id": "M957tdlix-Wl"
      },
      "execution_count": null,
      "outputs": []
    },
    {
      "cell_type": "code",
      "source": [
        "#answer14\n",
        "  text = input(\"Enter a string:\")\n",
        "reversed_text = \"\"\n",
        "i = len(text) - 1\n",
        "while i >= 0 :\n",
        "    reversed_text += text[i]\n",
        "    i -= 1\n",
        "print(\"Reversed string:\", reversed_text)\n",
        "\n",
        ""
      ],
      "metadata": {
        "id": "qEpRf8sMx-j5"
      },
      "execution_count": null,
      "outputs": []
    },
    {
      "cell_type": "code",
      "source": [
        "#answer15\n",
        "number = int(input(\"Enter a number : \"))\n",
        "factorial = 1\n",
        "i = 1\n",
        "while i <= number:\n",
        "    factorial *= i\n",
        "    i += 1\n",
        "print(\"Factorial of \" , number, \"is\", factorial)\n"
      ],
      "metadata": {
        "id": "u5wPXigpx-0W"
      },
      "execution_count": null,
      "outputs": []
    },
    {
      "cell_type": "code",
      "source": [
        "#answer13\n",
        "sum_even = 0\n",
        "for i in range(1, 51):\n",
        "    if i % 2 == 0 :\n",
        "        sum_even += i\n",
        "print(sum_even)"
      ],
      "metadata": {
        "id": "QJa3puQTx_Wi"
      },
      "execution_count": null,
      "outputs": []
    }
  ]
}